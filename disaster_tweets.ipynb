{
 "cells": [
  {
   "cell_type": "markdown",
   "source": [
    "# Disaster recognition from tweets with deep learning\n",
    "\n",
    "The aim of this project is to create and train a recurrent neural network to recognize disasters from tweets, with high accuracy. The GitHub repository for the project is the following: https://github.com/mohosb/disaster_tweets\n",
    "\n",
    "The data is from the Kaggle competition \"Natural Language Processing with Disaster Tweets\" (https://www.kaggle.com/competitions/nlp-getting-started/overview).\n",
    "\n",
    "In this project I will use PyTorch, a popular deep learning library for Python, and also a package called \"nn_utils\", that contains lots of useful functions. This package is writen and developed entirely by me. (https://github.com/szegedai/nn_utils)"
   ],
   "metadata": {
    "collapsed": false
   }
  },
  {
   "cell_type": "code",
   "execution_count": null,
   "outputs": [],
   "source": [
    "import torch\n",
    "import pandas as pd\n",
    "from nn_utils.misc import split_dataset, create_data_loaders\n",
    "from nn_utils.training import train_classifier, CLILoggerCallback"
   ],
   "metadata": {
    "collapsed": false
   }
  },
  {
   "cell_type": "markdown",
   "source": [
    "## EDA\n",
    "\n",
    "In the following cells, we can see that there are 5 columns and 7613 rows. There is a significant amount of missing values in columns \"keyword\" and \"location\". Because of this, it may be beneficial to not use those columns and just simply use the text.\n",
    "\n",
    "There are two possible labels, 0 and 1. These represent if the tweet is about a disaster or not. The balance between the two labels is not ideal, but it is good enough to used reliably in my opinion."
   ],
   "metadata": {
    "collapsed": false
   }
  },
  {
   "cell_type": "code",
   "execution_count": 106,
   "outputs": [
    {
     "data": {
      "text/plain": "   id keyword location                                               text  \\\n0   1     NaN      NaN  Our Deeds are the Reason of this #earthquake M...   \n1   4     NaN      NaN             Forest fire near La Ronge Sask. Canada   \n2   5     NaN      NaN  All residents asked to 'shelter in place' are ...   \n3   6     NaN      NaN  13,000 people receive #wildfires evacuation or...   \n4   7     NaN      NaN  Just got sent this photo from Ruby #Alaska as ...   \n\n   target  \n0       1  \n1       1  \n2       1  \n3       1  \n4       1  ",
      "text/html": "<div>\n<style scoped>\n    .dataframe tbody tr th:only-of-type {\n        vertical-align: middle;\n    }\n\n    .dataframe tbody tr th {\n        vertical-align: top;\n    }\n\n    .dataframe thead th {\n        text-align: right;\n    }\n</style>\n<table border=\"1\" class=\"dataframe\">\n  <thead>\n    <tr style=\"text-align: right;\">\n      <th></th>\n      <th>id</th>\n      <th>keyword</th>\n      <th>location</th>\n      <th>text</th>\n      <th>target</th>\n    </tr>\n  </thead>\n  <tbody>\n    <tr>\n      <th>0</th>\n      <td>1</td>\n      <td>NaN</td>\n      <td>NaN</td>\n      <td>Our Deeds are the Reason of this #earthquake M...</td>\n      <td>1</td>\n    </tr>\n    <tr>\n      <th>1</th>\n      <td>4</td>\n      <td>NaN</td>\n      <td>NaN</td>\n      <td>Forest fire near La Ronge Sask. Canada</td>\n      <td>1</td>\n    </tr>\n    <tr>\n      <th>2</th>\n      <td>5</td>\n      <td>NaN</td>\n      <td>NaN</td>\n      <td>All residents asked to 'shelter in place' are ...</td>\n      <td>1</td>\n    </tr>\n    <tr>\n      <th>3</th>\n      <td>6</td>\n      <td>NaN</td>\n      <td>NaN</td>\n      <td>13,000 people receive #wildfires evacuation or...</td>\n      <td>1</td>\n    </tr>\n    <tr>\n      <th>4</th>\n      <td>7</td>\n      <td>NaN</td>\n      <td>NaN</td>\n      <td>Just got sent this photo from Ruby #Alaska as ...</td>\n      <td>1</td>\n    </tr>\n  </tbody>\n</table>\n</div>"
     },
     "execution_count": 106,
     "metadata": {},
     "output_type": "execute_result"
    }
   ],
   "source": [
    "df = pd.read_csv('./train.csv')\n",
    "df.head()"
   ],
   "metadata": {
    "collapsed": false
   }
  },
  {
   "cell_type": "code",
   "execution_count": 107,
   "outputs": [
    {
     "name": "stdout",
     "output_type": "stream",
     "text": [
      "<class 'pandas.core.frame.DataFrame'>\n",
      "RangeIndex: 7613 entries, 0 to 7612\n",
      "Data columns (total 5 columns):\n",
      " #   Column    Non-Null Count  Dtype \n",
      "---  ------    --------------  ----- \n",
      " 0   id        7613 non-null   int64 \n",
      " 1   keyword   7552 non-null   object\n",
      " 2   location  5080 non-null   object\n",
      " 3   text      7613 non-null   object\n",
      " 4   target    7613 non-null   int64 \n",
      "dtypes: int64(2), object(3)\n",
      "memory usage: 297.5+ KB\n"
     ]
    }
   ],
   "source": [
    "df.info()"
   ],
   "metadata": {
    "collapsed": false
   }
  },
  {
   "cell_type": "code",
   "execution_count": 113,
   "outputs": [
    {
     "data": {
      "text/plain": "<Figure size 640x480 with 1 Axes>",
      "image/png": "[encoded data removed]"
     },
     "metadata": {},
     "output_type": "display_data"
    }
   ],
   "source": [
    "df['target'].value_counts().plot(kind='bar', xlabel='Target', ylabel='Count', rot=0);"
   ],
   "metadata": {
    "collapsed": false
   }
  },
  {
   "cell_type": "markdown",
   "source": [
    "## Data loading, preprocessing and cleaning\n",
    "\n",
    "In this section we will be doing the following:\n",
    "- Load the raw text data\n",
    "- Remove some characters to simplify the task\n",
    "- Break the texts into words/tokens\n",
    "- Build a vocabulary that can be used to create a basic number representation from tokens"
   ],
   "metadata": {
    "collapsed": false
   }
  },
  {
   "cell_type": "code",
   "execution_count": null,
   "outputs": [],
   "source": [
    "class Vocab:\n",
    "    def __init__(self, tokens):\n",
    "        unique_tokens = set(tokens)\n",
    "        self.forward_mapping = dict(zip(unique_tokens, range(1, len(unique_tokens) + 1)))\n",
    "        self.backward_mapping = dict(zip(range(1, len(unique_tokens) + 1), unique_tokens))\n",
    "\n",
    "    def extend(self, tokens):\n",
    "        start_idx = len(self.forward_mapping)\n",
    "        for i, t in enumerate(tokens):\n",
    "            self.forward_mapping[t] = start_idx + i + 1\n",
    "            self.backward_mapping[start_idx + i + 1] = t\n",
    "\n",
    "    def token2idx(self, tokens):\n",
    "        return [self.forward_mapping.get(token, 0) for token in tokens]\n",
    "\n",
    "    def idx2token(self, idxs):\n",
    "        return [self.backward_mapping.get(idx, '<OOV>') for idx in idxs]\n",
    "\n",
    "    def __len__(self):\n",
    "        return len(self.forward_mapping) + 1\n",
    "\n",
    "class TweetDataset(torch.utils.data.Dataset):\n",
    "    def __init__(self, path, preprocessor=None, with_labels=True):\n",
    "        super().__init__()\n",
    "        self.df = pd.read_csv(path, usecols=['text', 'target'] if with_labels else ['text'])\n",
    "        if preprocessor is not None:\n",
    "            self.df['text'] = self.df['text'].map(preprocessor)\n",
    "\n",
    "    def __len__(self):\n",
    "        return len(self.df)\n",
    "\n",
    "    def __getitem__(self, idx):\n",
    "        return tuple(self.df.iloc[idx].values)"
   ],
   "metadata": {
    "collapsed": false
   }
  },
  {
   "cell_type": "code",
   "execution_count": null,
   "outputs": [],
   "source": [
    "def clean_text(t):\n",
    "    for c in [',', ':', '.', '!', '?', '#', '@', '\\'', '\\\"']:\n",
    "        t = t.replace(c, '')\n",
    "    t = t.replace('\\n', ' ')\n",
    "    return t.lower()\n",
    "\n",
    "train_ds, val_ds = split_dataset(TweetDataset('./train.csv', clean_text, with_labels=True), split=0.1, seed=42)\n",
    "test_ds = TweetDataset('./test.csv', clean_text, with_labels=False)\n",
    "train_loader, val_loader = create_data_loaders(\n",
    "    [train_ds, val_ds],\n",
    "    batch_size=256, shuffle=True,\n",
    "    num_workers=0, multiprocessing_context=None, persistent_workers=False\n",
    ")\n",
    "test_loader, = create_data_loaders(\n",
    "    [test_ds], batch_size=256, shuffle=False,\n",
    "    num_workers=0, multiprocessing_context=None, persistent_workers=False\n",
    ")\n",
    "\n",
    "tokens = set()\n",
    "for t, _ in iter(train_ds):\n",
    "    tokens.update(t.split(' '))\n",
    "vocab = Vocab(tokens)"
   ],
   "metadata": {
    "collapsed": false
   }
  },
  {
   "cell_type": "code",
   "execution_count": null,
   "outputs": [],
   "source": [
    "test_text = \\\n",
    "'''This is a simple text to test the tokenization.\n",
    "By the way, all dogs are cute! :D'''\n",
    "vocab.token2idx(clean_text(test_text).split(' '))"
   ],
   "metadata": {
    "collapsed": false
   }
  },
  {
   "cell_type": "markdown",
   "source": [
    "## Model building\n",
    "\n",
    "In the following section we will attempt to build two basic RNN architectures for the classification task. Both will use an embedding layer to transform the basic index based numerical representation of the vocabulary into a higher dimensional representation that is more descriptive of the actual tokens and can be much more useful for the neural network to work with. The embedded vectors will be ran through an LSTM in the first model architecture and a GRU in the case of the other model. The output of the LSTM or GRU will be fed to a simple fully connected layer to make the final classification."
   ],
   "metadata": {
    "collapsed": false
   }
  },
  {
   "cell_type": "code",
   "execution_count": null,
   "outputs": [],
   "source": [
    "class GRUClassifier(torch.nn.Module):\n",
    "    def __init__(self, preprocessor, vocab, num_classes, embedding_dim, width, dropout=0.0):\n",
    "        super().__init__()\n",
    "        self.preprocessor = preprocessor\n",
    "        self.vocab = vocab\n",
    "        self.embedding = torch.nn.Embedding(len(self.vocab), embedding_dim)\n",
    "        self.gru = torch.nn.GRU(embedding_dim, hidden_size=width, batch_first=True)\n",
    "        self.dropout = torch.nn.Dropout(dropout)\n",
    "        self.classifier = torch.nn.Linear(width, num_classes)\n",
    "\n",
    "        self.device = 'cpu'\n",
    "        self.dtype = torch.float32\n",
    "\n",
    "    def forward(self, text):\n",
    "        tokens = map(lambda t: self.vocab.token2idx(self.preprocessor(t).split(' ')), text)\n",
    "        logits = []\n",
    "        for x in tokens:\n",
    "            x = torch.tensor(x, device=self.device, dtype=torch.int64)[None, :]\n",
    "            x = self.embedding(x)\n",
    "            _, x = self.gru(x)\n",
    "            x = self.dropout(x)\n",
    "            x = self.classifier(x[0])\n",
    "            logits.append(x)\n",
    "        return torch.concat(logits, dim=0)\n",
    "\n",
    "    def to(self, device, dtype=None, **kwargs):\n",
    "        self.device = device\n",
    "        if dtype:\n",
    "            self.dtype = dtype\n",
    "        return super().to(device=self.device, dtype=self.dtype, **kwargs)"
   ],
   "metadata": {
    "collapsed": false
   }
  },
  {
   "cell_type": "code",
   "execution_count": null,
   "outputs": [],
   "source": [
    "class LSTMClassifier(torch.nn.Module):\n",
    "    def __init__(self, preprocessor, vocab, num_classes, embedding_dim, width, dropout=0.0):\n",
    "        super().__init__()\n",
    "        self.preprocessor = preprocessor\n",
    "        self.vocab = vocab\n",
    "        self.embedding = torch.nn.Embedding(len(self.vocab), embedding_dim)\n",
    "        self.lstm = torch.nn.LSTM(embedding_dim, hidden_size=width, batch_first=True)\n",
    "        self.dropout = torch.nn.Dropout(dropout)\n",
    "        self.classifier = torch.nn.Linear(width, num_classes)\n",
    "\n",
    "        self.device = 'cpu'\n",
    "        self.dtype = torch.float32\n",
    "\n",
    "    def forward(self, text):\n",
    "        tokens = map(lambda t: self.vocab.token2idx(self.preprocessor(t).split(' ')), text)\n",
    "        logits = []\n",
    "        for x in tokens:\n",
    "            x = torch.tensor(x, device=self.device, dtype=torch.int64)[None, :]\n",
    "            x = self.embedding(x)\n",
    "            _, (x, _) = self.lstm(x)\n",
    "            x = self.dropout(x)\n",
    "            x = self.classifier(x[0])\n",
    "            logits.append(x)\n",
    "        return torch.concat(logits, dim=0)\n",
    "\n",
    "    def to(self, device, dtype=None, **kwargs):\n",
    "        self.device = device\n",
    "        if dtype:\n",
    "            self.dtype = dtype\n",
    "        return super().to(device=self.device, dtype=self.dtype, **kwargs)"
   ],
   "metadata": {
    "collapsed": false
   }
  },
  {
   "cell_type": "markdown",
   "source": [
    "## Model training any hyperparameter tuning\n",
    "\n",
    "We can play a bit with the different hyperparameters that are learning rate, weight decay, embedding dimension size and hidden layer size. In an ideal situation it is advised to run a full hyperparameter search like a grid search but at this moment I do not have the computational resources to do this, so I will just try a few configurations with a fairly heuristic approach."
   ],
   "metadata": {
    "collapsed": false
   }
  },
  {
   "cell_type": "code",
   "execution_count": null,
   "outputs": [],
   "source": [
    "# Uncomment the device you would like to use!\n",
    "device = torch.device('cpu')\n",
    "#device = torch.device('mps')\n",
    "#device = torch.device('cuda')\n",
    "\n",
    "# Uncomment the model you would like to use!\n",
    "#model = LSTMClassifier(clean_text, vocab, num_classes=2, embedding_dim=64, width=128).to(device)\n",
    "#model = GRUClassifier(clean_text, vocab, num_classes=2, embedding_dim=64, width=256).to(device)\n",
    "#model = GRUClassifier(clean_text, vocab, num_classes=2, embedding_dim=128, width=128).to(device)\n",
    "#model = GRUClassifier(clean_text, vocab, num_classes=2, embedding_dim=256, width=128).to(device)\n",
    "model = GRUClassifier(clean_text, vocab, num_classes=2, embedding_dim=576, width=128).to(device)\n",
    "#model = GRUClassifier(clean_text, vocab, num_classes=2, embedding_dim=1024, width=256).to(device)\n",
    "\n",
    "# Uncomment the optimizer you would like to use!\n",
    "#optimizer = torch.optim.AdamW(model.parameters(), lr=0.001, weight_decay=0.0001)\n",
    "#optimizer = torch.optim.AdamW(model.parameters(), lr=0.001, weight_decay=0.001)\n",
    "#optimizer = torch.optim.AdamW(model.parameters(), lr=0.001, weight_decay=0.005)\n",
    "optimizer = torch.optim.AdamW(model.parameters(), lr=0.01, weight_decay=0.01)\n",
    "#optimizer = torch.optim.AdamW(model.parameters(), lr=0.001, weight_decay=0.01)"
   ],
   "metadata": {
    "collapsed": false
   }
  },
  {
   "cell_type": "code",
   "execution_count": null,
   "outputs": [],
   "source": [
    "loss_fn = torch.nn.CrossEntropyLoss()\n",
    "\n",
    "train_classifier(model, loss_fn, optimizer, train_loader, val_loader,\n",
    "                 callbacks=[\n",
    "                     CLILoggerCallback()\n",
    "                 ], num_epochs=1)"
   ],
   "metadata": {
    "collapsed": false
   }
  },
  {
   "cell_type": "markdown",
   "source": [
    "## Results and conclusion\n",
    "\n",
    "| model type | learning rate | weight decay | embedding dimension | hidden layers width | number of epochs | validation accuracy |\n",
    "|------------|---------------|--------------|---------------------|---------------------|------------------|---------------------|\n",
    "| lstm       | 0.001         | 0.0001       | 64                  | 128                 | 3                | 66.23%              |\n",
    "| gru        | 0.001         | 0.0001       | 64                  | 128                 | 3                | 70.04%              |\n",
    "| gru        | 0.001         | 0.0001       | 64                  | 256                 | 3                | 65.57%              |\n",
    "| gru        | 0.001         | 0.001        | 64                  | 256                 | 3                | 66.10%              |\n",
    "| gru        | 0.001         | 0.001        | 64                  | 128                 | 3                | 70.83%              |\n",
    "| gru        | 0.001         | 0.001        | 128                 | 128                 | 3                | 71.35%              |\n",
    "| gru        | 0.001         | 0.005        | 128                 | 128                 | 3                | 72.54%              |\n",
    "| gru        | 0.001         | 0.01         | 128                 | 128                 | 3                | 69.78%              |\n",
    "| gru        | 0.001         | 0.01         | 256                 | 128                 | 3                | 73.32%              |\n",
    "| gru        | 0.001         | 0.01         | 512                 | 128                 | 3                | 74.90%              |\n",
    "| gru        | 0.01          | 0.01         | 512                 | 128                 | 1                | 77.79%              |\n",
    "(Rerunning the trainings may not produce the exact same results because of the random nature of the network initialization.)\n",
    "\n",
    "Overfitting was the biggest problem during the trainings. First off, LSTM showed much more overfitting by default which is not to surprising since it is a bit of an overcomplicated architecture. Because of this I chose to use GRU for every other test. Despite this, ovefitting remained a big trouble. Increasing the number of neurons in the hidden layers, significantly increases the training accuracy, but the at the same time, decreases the validation accuracy, this is why I chose to keep the 128. To combat the overfitting, I started to increase the weight decay and the embedding dimension size. After that, I noticed that the first epoch always has the best validation accuracy, so for my last training I used only 1 epoch.\n",
    "\n",
    "In conclusion, the model was improved significantly by just playing with the hyperparameters, but I am sure that a much better configuration could be found with the appropriate amount of hyperparameters searching."
   ],
   "metadata": {
    "collapsed": false
   }
  },
  {
   "cell_type": "code",
   "execution_count": null,
   "outputs": [],
   "source": [
    "all_ids = pd.read_csv('./test.csv', usecols=['id']).values[:, 0]\n",
    "all_predictions = []\n",
    "model.eval()\n",
    "for text, in test_loader:\n",
    "    all_predictions += model(text).argmax(dim=1).to(dtype=torch.int).tolist()\n",
    "submission = pd.DataFrame({'id': all_ids, 'target': all_predictions})\n",
    "submission.to_csv('submission.csv', sep=',', header=True, index=False)"
   ],
   "metadata": {
    "collapsed": false
   }
  }
 ],
 "metadata": {
  "kernelspec": {
   "display_name": "Python 3",
   "language": "python",
   "name": "python3"
  },
  "language_info": {
   "codemirror_mode": {
    "name": "ipython",
    "version": 2
   },
   "file_extension": ".py",
   "mimetype": "text/x-python",
   "name": "python",
   "nbconvert_exporter": "python",
   "pygments_lexer": "ipython2",
   "version": "2.7.6"
  }
 },
 "nbformat": 4,
 "nbformat_minor": 0
}
